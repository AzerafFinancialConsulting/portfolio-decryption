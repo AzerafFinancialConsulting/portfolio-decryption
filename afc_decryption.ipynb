{
 "cells": [
  {
   "cell_type": "code",
   "execution_count": null,
   "id": "d6d7b041",
   "metadata": {},
   "outputs": [],
   "source": [
    "from cryptography.fernet import Fernet"
   ]
  },
  {
   "cell_type": "code",
   "execution_count": null,
   "id": "d59e09a6",
   "metadata": {},
   "outputs": [],
   "source": [
    "secret_filename = \"*.key\"\n",
    "encrypted_filename = \"*.enc\""
   ]
  },
  {
   "cell_type": "code",
   "execution_count": null,
   "id": "6be579d9",
   "metadata": {},
   "outputs": [],
   "source": [
    "def decrypt_file(encrypted_path):\n",
    "    key = open(secret_filename, \"rb\").read()\n",
    "    fernet = Fernet(key)\n",
    "\n",
    "    with open(encrypted_path, \"rb\") as enc_file:\n",
    "        encrypted_data = enc_file.read()\n",
    "\n",
    "    decrypted = fernet.decrypt(encrypted_data)\n",
    "    return decrypted\n",
    "\n",
    "decrypted = decrypt_file(encrypted_filename)"
   ]
  },
  {
   "cell_type": "code",
   "execution_count": null,
   "id": "d9ef88af",
   "metadata": {},
   "outputs": [],
   "source": [
    "print(decrypted.decode(\"utf-8\"))"
   ]
  },
  {
   "cell_type": "code",
   "execution_count": null,
   "id": "fc7a64bf",
   "metadata": {},
   "outputs": [],
   "source": []
  }
 ],
 "metadata": {
  "kernelspec": {
   "display_name": "afc_env",
   "language": "python",
   "name": "python3"
  },
  "language_info": {
   "codemirror_mode": {
    "name": "ipython",
    "version": 3
   },
   "file_extension": ".py",
   "mimetype": "text/x-python",
   "name": "python",
   "nbconvert_exporter": "python",
   "pygments_lexer": "ipython3",
   "version": "3.9.19"
  }
 },
 "nbformat": 4,
 "nbformat_minor": 5
}
